{
  "cells": [
    {
      "cell_type": "code",
      "execution_count": null,
      "id": "strategic-honey",
      "metadata": {
        "id": "strategic-honey"
      },
      "outputs": [],
      "source": [
        "import pandas as  pd\n",
        "import tensorflow as tf\n",
        "import tensorflow.keras as keras\n",
        "import matplotlib.pyplot as plt\n",
        "import numpy as np\n",
        "from tensorflow.keras import layers,activations\n",
        "from sklearn.model_selection import train_test_split\n",
        "from sklearn import preprocessing\n",
        "import seaborn as sb\n",
        "from sklearn.model_selection import KFold,GroupKFold\n",
        "from joblib import dump ,load\n",
        "import os\n",
        "from tensorflow.keras.preprocessing.sequence import TimeseriesGenerator\n",
        "from pathlib import Path\n",
        "import tensorboard"
      ]
    },
    {
      "cell_type": "code",
      "execution_count": null,
      "id": "a6b43a73-7ef9-4f91-9a9a-5ecb0092e434",
      "metadata": {
        "id": "a6b43a73-7ef9-4f91-9a9a-5ecb0092e434"
      },
      "outputs": [],
      "source": []
    },
    {
      "cell_type": "code",
      "execution_count": null,
      "id": "figured-excerpt",
      "metadata": {
        "id": "figured-excerpt"
      },
      "outputs": [],
      "source": [
        "pd.options.display.max_rows = 100\n",
        "pd.options.display.max_columns = 100"
      ]
    },
    {
      "cell_type": "code",
      "execution_count": null,
      "id": "6245659b-f7dd-41a5-ac9c-a2ef607ca2e9",
      "metadata": {
        "id": "6245659b-f7dd-41a5-ac9c-a2ef607ca2e9"
      },
      "outputs": [],
      "source": []
    },
    {
      "cell_type": "code",
      "execution_count": null,
      "id": "commercial-india",
      "metadata": {
        "id": "commercial-india"
      },
      "outputs": [],
      "source": [
        "def features(data):\n",
        "    \n",
        "    data['time_passed'] = data.groupby('breath_id')['time_step'].diff(1)\n",
        "    data['u_in_prev'] = data.groupby('breath_id')['u_in'].shift(1)\n",
        "    data['u_in_prev_diff'] = data['u_in'] - data['u_in_prev']\n",
        "    data['u_in_prev2'] = data.groupby('breath_id')['u_in'].shift(2)\n",
        "    data['u_in_prev2_diff'] = data['u_in'] - data['u_in_prev2']\n",
        "    data['u_in_cumsum'] = data.groupby('breath_id')['u_in'].cumsum()\n",
        "    data['time_step_cumsum'] =  data.groupby('breath_id')['time_step'].cumsum()\n",
        "    data['u_in_cumsum/time_cumsum'] =  data['u_in_cumsum'] /  data['time_step_cumsum']\n",
        "    data['u_in_diff_time'] =   data['u_in_prev_diff'] / data['time_passed'] \n",
        "    data['u_out_prev'] = data.groupby('breath_id')['u_out'].shift(1)\n",
        "    data['u_out_prev_diff'] = data['u_out'] - data['u_out_prev']\n",
        "    data['u_out_diff_time'] =   data['u_out_prev_diff'] / data['time_passed']    \n",
        "    data['prev_pressure'] = data.groupby('breath_id')['pressure'].shift(1)\n",
        "    # data['pressure_diff'] = data.groupby('breath_id')['pressure'].diff(1) \n",
        "    # data['kmeans_val'] = pd.read_csv('kmeans.csv')\n",
        "    data['R'] = data['R'].astype('str')\n",
        "    data['C'] = data['C'].astype('str')\n",
        "    data['R__C'] = data[\"R\"].astype(str) + '__' + data[\"C\"].astype(str)\n",
        "    data = pd.get_dummies(data, drop_first=True) \n",
        "    data = data.replace(np.inf,-1)    \n",
        "    data = data.fillna(0)\n",
        "    return data"
      ]
    },
    {
      "cell_type": "code",
      "execution_count": null,
      "id": "yuEtOo8H8Er5",
      "metadata": {
        "id": "yuEtOo8H8Er5"
      },
      "outputs": [],
      "source": []
    },
    {
      "cell_type": "code",
      "execution_count": null,
      "id": "xUqpCBqArw32",
      "metadata": {
        "id": "xUqpCBqArw32"
      },
      "outputs": [],
      "source": [
        "def prepare_data(data):\n",
        "    featured_data = features(data)\n",
        "   \n",
        "    prev_pressure = featured_data['prev_pressure'].to_numpy().reshape(-1,1)\n",
        "    scaler = load('./drive/MyDrive/colab2/data_scaler.bin')\n",
        "    scaled_data = scaler.transform(featured_data.drop(['pressure','prev_pressure','id','breath_id'],axis=1))#ScaleData(featured_data.drop(['pressure','prev_pressure','id','breath_id'],axis=1),save_scaler=True,save_path=\"data_scaler.bin\")\n",
        "    prev_scaler = load('./drive/MyDrive/colab2/prev_pressure_scaler.bin')\n",
        "    prev_pressure_scaled = prev_scaler.transform(prev_pressure)\n",
        "    print(scaled_data.shape)\n",
        "    X = np.concatenate((scaled_data,prev_pressure_scaled),axis=1)\n",
        "    Y = featured_data['pressure'].to_numpy()\n",
        "    return X,Y\n",
        "    "
      ]
    },
    {
      "cell_type": "code",
      "execution_count": null,
      "id": "0c5a3511",
      "metadata": {
        "id": "0c5a3511"
      },
      "outputs": [],
      "source": [
        "def ScaleData(data,transform_only=False,save_scaler=False,save_path=None):\n",
        "    scaler = preprocessing.RobustScaler()\n",
        "    if transform_only:\n",
        "        scaled_data = scaler.transform(data)\n",
        "    else:\n",
        "        scaled_data = scaler.fit_transform(data)\n",
        "    \n",
        "    if save_scaler:\n",
        "        if save_path is None:\n",
        "            raise \"Path Not Defined\"\n",
        "        dump(scaler,save_path)\n",
        "    \n",
        "    return scaled_data"
      ]
    },
    {
      "cell_type": "code",
      "execution_count": null,
      "id": "46aaf345",
      "metadata": {
        "id": "46aaf345"
      },
      "outputs": [],
      "source": [
        "def prepare_data(data):\n",
        "    featured_data = features(data)\n",
        "   \n",
        "    prev_pressure = featured_data['prev_pressure'].to_numpy().reshape(-1,1)\n",
        "    scaled_data = ScaleData(featured_data.drop(['pressure','prev_pressure','id','breath_id'],axis=1),save_scaler=True,save_path=\"data_scaler.bin\")\n",
        "    prev_pressure_scaled = ScaleData(prev_pressure,transform_only=False,save_scaler=True,save_path=\"prev_pressure_scaler.bin\")\n",
        "    print(scaled_data.shape)\n",
        "    X = np.concatenate((scaled_data,prev_pressure_scaled),axis=1)\n",
        "    Y = featured_data['pressure'].to_numpy()\n",
        "    return X,Y\n",
        "    "
      ]
    },
    {
      "cell_type": "code",
      "execution_count": null,
      "id": "indian-bridge",
      "metadata": {
        "id": "indian-bridge"
      },
      "outputs": [],
      "source": [
        "data = pd.read_csv(\"train.csv\")"
      ]
    },
    {
      "cell_type": "code",
      "execution_count": null,
      "id": "k2h3Cg-08GXY",
      "metadata": {
        "colab": {
          "base_uri": "https://localhost:8080/",
          "height": 488
        },
        "id": "k2h3Cg-08GXY",
        "outputId": "6dde0356-b6d4-4b2a-e78d-390ecf2f9d32"
      },
      "outputs": [
        {
          "data": {
            "text/html": [
              "\n",
              "  <div id=\"df-55fe6952-6aea-43ab-b1a0-89db0df15334\">\n",
              "    <div class=\"colab-df-container\">\n",
              "      <div>\n",
              "<style scoped>\n",
              "    .dataframe tbody tr th:only-of-type {\n",
              "        vertical-align: middle;\n",
              "    }\n",
              "\n",
              "    .dataframe tbody tr th {\n",
              "        vertical-align: top;\n",
              "    }\n",
              "\n",
              "    .dataframe thead th {\n",
              "        text-align: right;\n",
              "    }\n",
              "</style>\n",
              "<table border=\"1\" class=\"dataframe\">\n",
              "  <thead>\n",
              "    <tr style=\"text-align: right;\">\n",
              "      <th></th>\n",
              "      <th>id</th>\n",
              "      <th>breath_id</th>\n",
              "      <th>time_step</th>\n",
              "      <th>u_in</th>\n",
              "      <th>u_out</th>\n",
              "      <th>pressure</th>\n",
              "      <th>time_passed</th>\n",
              "      <th>u_in_prev</th>\n",
              "      <th>u_in_prev_diff</th>\n",
              "      <th>u_in_prev2</th>\n",
              "      <th>u_in_prev2_diff</th>\n",
              "      <th>u_in_cumsum</th>\n",
              "      <th>time_step_cumsum</th>\n",
              "      <th>u_in_cumsum/time_cumsum</th>\n",
              "      <th>u_in_diff_time</th>\n",
              "      <th>u_out_prev</th>\n",
              "      <th>u_out_prev_diff</th>\n",
              "      <th>u_out_diff_time</th>\n",
              "      <th>prev_pressure</th>\n",
              "      <th>R_5</th>\n",
              "      <th>R_50</th>\n",
              "      <th>C_20</th>\n",
              "      <th>C_50</th>\n",
              "      <th>R__C_20__20</th>\n",
              "      <th>R__C_20__50</th>\n",
              "      <th>R__C_50__10</th>\n",
              "      <th>R__C_50__20</th>\n",
              "      <th>R__C_50__50</th>\n",
              "      <th>R__C_5__10</th>\n",
              "      <th>R__C_5__20</th>\n",
              "      <th>R__C_5__50</th>\n",
              "    </tr>\n",
              "  </thead>\n",
              "  <tbody>\n",
              "    <tr>\n",
              "      <th>0</th>\n",
              "      <td>1</td>\n",
              "      <td>1</td>\n",
              "      <td>0.000000</td>\n",
              "      <td>0.083334</td>\n",
              "      <td>0</td>\n",
              "      <td>5.837492</td>\n",
              "      <td>0.000000</td>\n",
              "      <td>0.000000</td>\n",
              "      <td>0.000000</td>\n",
              "      <td>0.000000</td>\n",
              "      <td>0.000000</td>\n",
              "      <td>0.083334</td>\n",
              "      <td>0.000000</td>\n",
              "      <td>-1.000000</td>\n",
              "      <td>0.000000</td>\n",
              "      <td>0.0</td>\n",
              "      <td>0.0</td>\n",
              "      <td>0.0</td>\n",
              "      <td>0.000000</td>\n",
              "      <td>0</td>\n",
              "      <td>0</td>\n",
              "      <td>0</td>\n",
              "      <td>1</td>\n",
              "      <td>0</td>\n",
              "      <td>1</td>\n",
              "      <td>0</td>\n",
              "      <td>0</td>\n",
              "      <td>0</td>\n",
              "      <td>0</td>\n",
              "      <td>0</td>\n",
              "      <td>0</td>\n",
              "    </tr>\n",
              "    <tr>\n",
              "      <th>1</th>\n",
              "      <td>2</td>\n",
              "      <td>1</td>\n",
              "      <td>0.033652</td>\n",
              "      <td>18.383041</td>\n",
              "      <td>0</td>\n",
              "      <td>5.907794</td>\n",
              "      <td>0.033652</td>\n",
              "      <td>0.083334</td>\n",
              "      <td>18.299707</td>\n",
              "      <td>0.000000</td>\n",
              "      <td>0.000000</td>\n",
              "      <td>18.466375</td>\n",
              "      <td>0.033652</td>\n",
              "      <td>548.740276</td>\n",
              "      <td>543.787629</td>\n",
              "      <td>0.0</td>\n",
              "      <td>0.0</td>\n",
              "      <td>0.0</td>\n",
              "      <td>5.837492</td>\n",
              "      <td>0</td>\n",
              "      <td>0</td>\n",
              "      <td>0</td>\n",
              "      <td>1</td>\n",
              "      <td>0</td>\n",
              "      <td>1</td>\n",
              "      <td>0</td>\n",
              "      <td>0</td>\n",
              "      <td>0</td>\n",
              "      <td>0</td>\n",
              "      <td>0</td>\n",
              "      <td>0</td>\n",
              "    </tr>\n",
              "    <tr>\n",
              "      <th>2</th>\n",
              "      <td>3</td>\n",
              "      <td>1</td>\n",
              "      <td>0.067514</td>\n",
              "      <td>22.509278</td>\n",
              "      <td>0</td>\n",
              "      <td>7.876254</td>\n",
              "      <td>0.033862</td>\n",
              "      <td>18.383041</td>\n",
              "      <td>4.126236</td>\n",
              "      <td>0.083334</td>\n",
              "      <td>22.425944</td>\n",
              "      <td>40.975653</td>\n",
              "      <td>0.101167</td>\n",
              "      <td>405.030935</td>\n",
              "      <td>121.854067</td>\n",
              "      <td>0.0</td>\n",
              "      <td>0.0</td>\n",
              "      <td>0.0</td>\n",
              "      <td>5.907794</td>\n",
              "      <td>0</td>\n",
              "      <td>0</td>\n",
              "      <td>0</td>\n",
              "      <td>1</td>\n",
              "      <td>0</td>\n",
              "      <td>1</td>\n",
              "      <td>0</td>\n",
              "      <td>0</td>\n",
              "      <td>0</td>\n",
              "      <td>0</td>\n",
              "      <td>0</td>\n",
              "      <td>0</td>\n",
              "    </tr>\n",
              "    <tr>\n",
              "      <th>3</th>\n",
              "      <td>4</td>\n",
              "      <td>1</td>\n",
              "      <td>0.101542</td>\n",
              "      <td>22.808822</td>\n",
              "      <td>0</td>\n",
              "      <td>11.742872</td>\n",
              "      <td>0.034028</td>\n",
              "      <td>22.509278</td>\n",
              "      <td>0.299544</td>\n",
              "      <td>18.383041</td>\n",
              "      <td>4.425781</td>\n",
              "      <td>63.784476</td>\n",
              "      <td>0.202709</td>\n",
              "      <td>314.660366</td>\n",
              "      <td>8.802930</td>\n",
              "      <td>0.0</td>\n",
              "      <td>0.0</td>\n",
              "      <td>0.0</td>\n",
              "      <td>7.876254</td>\n",
              "      <td>0</td>\n",
              "      <td>0</td>\n",
              "      <td>0</td>\n",
              "      <td>1</td>\n",
              "      <td>0</td>\n",
              "      <td>1</td>\n",
              "      <td>0</td>\n",
              "      <td>0</td>\n",
              "      <td>0</td>\n",
              "      <td>0</td>\n",
              "      <td>0</td>\n",
              "      <td>0</td>\n",
              "    </tr>\n",
              "    <tr>\n",
              "      <th>4</th>\n",
              "      <td>5</td>\n",
              "      <td>1</td>\n",
              "      <td>0.135756</td>\n",
              "      <td>25.355850</td>\n",
              "      <td>0</td>\n",
              "      <td>12.234987</td>\n",
              "      <td>0.034213</td>\n",
              "      <td>22.808822</td>\n",
              "      <td>2.547028</td>\n",
              "      <td>22.509278</td>\n",
              "      <td>2.846573</td>\n",
              "      <td>89.140326</td>\n",
              "      <td>0.338464</td>\n",
              "      <td>263.366841</td>\n",
              "      <td>74.445543</td>\n",
              "      <td>0.0</td>\n",
              "      <td>0.0</td>\n",
              "      <td>0.0</td>\n",
              "      <td>11.742872</td>\n",
              "      <td>0</td>\n",
              "      <td>0</td>\n",
              "      <td>0</td>\n",
              "      <td>1</td>\n",
              "      <td>0</td>\n",
              "      <td>1</td>\n",
              "      <td>0</td>\n",
              "      <td>0</td>\n",
              "      <td>0</td>\n",
              "      <td>0</td>\n",
              "      <td>0</td>\n",
              "      <td>0</td>\n",
              "    </tr>\n",
              "    <tr>\n",
              "      <th>...</th>\n",
              "      <td>...</td>\n",
              "      <td>...</td>\n",
              "      <td>...</td>\n",
              "      <td>...</td>\n",
              "      <td>...</td>\n",
              "      <td>...</td>\n",
              "      <td>...</td>\n",
              "      <td>...</td>\n",
              "      <td>...</td>\n",
              "      <td>...</td>\n",
              "      <td>...</td>\n",
              "      <td>...</td>\n",
              "      <td>...</td>\n",
              "      <td>...</td>\n",
              "      <td>...</td>\n",
              "      <td>...</td>\n",
              "      <td>...</td>\n",
              "      <td>...</td>\n",
              "      <td>...</td>\n",
              "      <td>...</td>\n",
              "      <td>...</td>\n",
              "      <td>...</td>\n",
              "      <td>...</td>\n",
              "      <td>...</td>\n",
              "      <td>...</td>\n",
              "      <td>...</td>\n",
              "      <td>...</td>\n",
              "      <td>...</td>\n",
              "      <td>...</td>\n",
              "      <td>...</td>\n",
              "      <td>...</td>\n",
              "    </tr>\n",
              "    <tr>\n",
              "      <th>6035995</th>\n",
              "      <td>6035996</td>\n",
              "      <td>125749</td>\n",
              "      <td>2.504603</td>\n",
              "      <td>1.489714</td>\n",
              "      <td>1</td>\n",
              "      <td>3.869032</td>\n",
              "      <td>0.033412</td>\n",
              "      <td>1.420711</td>\n",
              "      <td>0.069002</td>\n",
              "      <td>1.353205</td>\n",
              "      <td>0.136509</td>\n",
              "      <td>387.109297</td>\n",
              "      <td>95.147046</td>\n",
              "      <td>4.068537</td>\n",
              "      <td>2.065221</td>\n",
              "      <td>1.0</td>\n",
              "      <td>0.0</td>\n",
              "      <td>0.0</td>\n",
              "      <td>3.939334</td>\n",
              "      <td>0</td>\n",
              "      <td>1</td>\n",
              "      <td>0</td>\n",
              "      <td>0</td>\n",
              "      <td>0</td>\n",
              "      <td>0</td>\n",
              "      <td>1</td>\n",
              "      <td>0</td>\n",
              "      <td>0</td>\n",
              "      <td>0</td>\n",
              "      <td>0</td>\n",
              "      <td>0</td>\n",
              "    </tr>\n",
              "    <tr>\n",
              "      <th>6035996</th>\n",
              "      <td>6035997</td>\n",
              "      <td>125749</td>\n",
              "      <td>2.537961</td>\n",
              "      <td>1.488497</td>\n",
              "      <td>1</td>\n",
              "      <td>3.869032</td>\n",
              "      <td>0.033358</td>\n",
              "      <td>1.489714</td>\n",
              "      <td>-0.001217</td>\n",
              "      <td>1.420711</td>\n",
              "      <td>0.067785</td>\n",
              "      <td>388.597794</td>\n",
              "      <td>97.685006</td>\n",
              "      <td>3.978070</td>\n",
              "      <td>-0.036476</td>\n",
              "      <td>1.0</td>\n",
              "      <td>0.0</td>\n",
              "      <td>0.0</td>\n",
              "      <td>3.869032</td>\n",
              "      <td>0</td>\n",
              "      <td>1</td>\n",
              "      <td>0</td>\n",
              "      <td>0</td>\n",
              "      <td>0</td>\n",
              "      <td>0</td>\n",
              "      <td>1</td>\n",
              "      <td>0</td>\n",
              "      <td>0</td>\n",
              "      <td>0</td>\n",
              "      <td>0</td>\n",
              "      <td>0</td>\n",
              "    </tr>\n",
              "    <tr>\n",
              "      <th>6035997</th>\n",
              "      <td>6035998</td>\n",
              "      <td>125749</td>\n",
              "      <td>2.571408</td>\n",
              "      <td>1.558978</td>\n",
              "      <td>1</td>\n",
              "      <td>3.798729</td>\n",
              "      <td>0.033447</td>\n",
              "      <td>1.488497</td>\n",
              "      <td>0.070481</td>\n",
              "      <td>1.489714</td>\n",
              "      <td>0.069264</td>\n",
              "      <td>390.156772</td>\n",
              "      <td>100.256414</td>\n",
              "      <td>3.891589</td>\n",
              "      <td>2.107258</td>\n",
              "      <td>1.0</td>\n",
              "      <td>0.0</td>\n",
              "      <td>0.0</td>\n",
              "      <td>3.869032</td>\n",
              "      <td>0</td>\n",
              "      <td>1</td>\n",
              "      <td>0</td>\n",
              "      <td>0</td>\n",
              "      <td>0</td>\n",
              "      <td>0</td>\n",
              "      <td>1</td>\n",
              "      <td>0</td>\n",
              "      <td>0</td>\n",
              "      <td>0</td>\n",
              "      <td>0</td>\n",
              "      <td>0</td>\n",
              "    </tr>\n",
              "    <tr>\n",
              "      <th>6035998</th>\n",
              "      <td>6035999</td>\n",
              "      <td>125749</td>\n",
              "      <td>2.604744</td>\n",
              "      <td>1.272663</td>\n",
              "      <td>1</td>\n",
              "      <td>4.079938</td>\n",
              "      <td>0.033337</td>\n",
              "      <td>1.558978</td>\n",
              "      <td>-0.286315</td>\n",
              "      <td>1.488497</td>\n",
              "      <td>-0.215834</td>\n",
              "      <td>391.429435</td>\n",
              "      <td>102.861158</td>\n",
              "      <td>3.805415</td>\n",
              "      <td>-8.588526</td>\n",
              "      <td>1.0</td>\n",
              "      <td>0.0</td>\n",
              "      <td>0.0</td>\n",
              "      <td>3.798729</td>\n",
              "      <td>0</td>\n",
              "      <td>1</td>\n",
              "      <td>0</td>\n",
              "      <td>0</td>\n",
              "      <td>0</td>\n",
              "      <td>0</td>\n",
              "      <td>1</td>\n",
              "      <td>0</td>\n",
              "      <td>0</td>\n",
              "      <td>0</td>\n",
              "      <td>0</td>\n",
              "      <td>0</td>\n",
              "    </tr>\n",
              "    <tr>\n",
              "      <th>6035999</th>\n",
              "      <td>6036000</td>\n",
              "      <td>125749</td>\n",
              "      <td>2.638017</td>\n",
              "      <td>1.482739</td>\n",
              "      <td>1</td>\n",
              "      <td>3.869032</td>\n",
              "      <td>0.033273</td>\n",
              "      <td>1.272663</td>\n",
              "      <td>0.210076</td>\n",
              "      <td>1.558978</td>\n",
              "      <td>-0.076239</td>\n",
              "      <td>392.912174</td>\n",
              "      <td>105.499176</td>\n",
              "      <td>3.724315</td>\n",
              "      <td>6.313709</td>\n",
              "      <td>1.0</td>\n",
              "      <td>0.0</td>\n",
              "      <td>0.0</td>\n",
              "      <td>4.079938</td>\n",
              "      <td>0</td>\n",
              "      <td>1</td>\n",
              "      <td>0</td>\n",
              "      <td>0</td>\n",
              "      <td>0</td>\n",
              "      <td>0</td>\n",
              "      <td>1</td>\n",
              "      <td>0</td>\n",
              "      <td>0</td>\n",
              "      <td>0</td>\n",
              "      <td>0</td>\n",
              "      <td>0</td>\n",
              "    </tr>\n",
              "  </tbody>\n",
              "</table>\n",
              "<p>6036000 rows × 31 columns</p>\n",
              "</div>\n",
              "      <button class=\"colab-df-convert\" onclick=\"convertToInteractive('df-55fe6952-6aea-43ab-b1a0-89db0df15334')\"\n",
              "              title=\"Convert this dataframe to an interactive table.\"\n",
              "              style=\"display:none;\">\n",
              "        \n",
              "  <svg xmlns=\"http://www.w3.org/2000/svg\" height=\"24px\"viewBox=\"0 0 24 24\"\n",
              "       width=\"24px\">\n",
              "    <path d=\"M0 0h24v24H0V0z\" fill=\"none\"/>\n",
              "    <path d=\"M18.56 5.44l.94 2.06.94-2.06 2.06-.94-2.06-.94-.94-2.06-.94 2.06-2.06.94zm-11 1L8.5 8.5l.94-2.06 2.06-.94-2.06-.94L8.5 2.5l-.94 2.06-2.06.94zm10 10l.94 2.06.94-2.06 2.06-.94-2.06-.94-.94-2.06-.94 2.06-2.06.94z\"/><path d=\"M17.41 7.96l-1.37-1.37c-.4-.4-.92-.59-1.43-.59-.52 0-1.04.2-1.43.59L10.3 9.45l-7.72 7.72c-.78.78-.78 2.05 0 2.83L4 21.41c.39.39.9.59 1.41.59.51 0 1.02-.2 1.41-.59l7.78-7.78 2.81-2.81c.8-.78.8-2.07 0-2.86zM5.41 20L4 18.59l7.72-7.72 1.47 1.35L5.41 20z\"/>\n",
              "  </svg>\n",
              "      </button>\n",
              "      \n",
              "  <style>\n",
              "    .colab-df-container {\n",
              "      display:flex;\n",
              "      flex-wrap:wrap;\n",
              "      gap: 12px;\n",
              "    }\n",
              "\n",
              "    .colab-df-convert {\n",
              "      background-color: #E8F0FE;\n",
              "      border: none;\n",
              "      border-radius: 50%;\n",
              "      cursor: pointer;\n",
              "      display: none;\n",
              "      fill: #1967D2;\n",
              "      height: 32px;\n",
              "      padding: 0 0 0 0;\n",
              "      width: 32px;\n",
              "    }\n",
              "\n",
              "    .colab-df-convert:hover {\n",
              "      background-color: #E2EBFA;\n",
              "      box-shadow: 0px 1px 2px rgba(60, 64, 67, 0.3), 0px 1px 3px 1px rgba(60, 64, 67, 0.15);\n",
              "      fill: #174EA6;\n",
              "    }\n",
              "\n",
              "    [theme=dark] .colab-df-convert {\n",
              "      background-color: #3B4455;\n",
              "      fill: #D2E3FC;\n",
              "    }\n",
              "\n",
              "    [theme=dark] .colab-df-convert:hover {\n",
              "      background-color: #434B5C;\n",
              "      box-shadow: 0px 1px 3px 1px rgba(0, 0, 0, 0.15);\n",
              "      filter: drop-shadow(0px 1px 2px rgba(0, 0, 0, 0.3));\n",
              "      fill: #FFFFFF;\n",
              "    }\n",
              "  </style>\n",
              "\n",
              "      <script>\n",
              "        const buttonEl =\n",
              "          document.querySelector('#df-55fe6952-6aea-43ab-b1a0-89db0df15334 button.colab-df-convert');\n",
              "        buttonEl.style.display =\n",
              "          google.colab.kernel.accessAllowed ? 'block' : 'none';\n",
              "\n",
              "        async function convertToInteractive(key) {\n",
              "          const element = document.querySelector('#df-55fe6952-6aea-43ab-b1a0-89db0df15334');\n",
              "          const dataTable =\n",
              "            await google.colab.kernel.invokeFunction('convertToInteractive',\n",
              "                                                     [key], {});\n",
              "          if (!dataTable) return;\n",
              "\n",
              "          const docLinkHtml = 'Like what you see? Visit the ' +\n",
              "            '<a target=\"_blank\" href=https://colab.research.google.com/notebooks/data_table.ipynb>data table notebook</a>'\n",
              "            + ' to learn more about interactive tables.';\n",
              "          element.innerHTML = '';\n",
              "          dataTable['output_type'] = 'display_data';\n",
              "          await google.colab.output.renderOutput(dataTable, element);\n",
              "          const docLink = document.createElement('div');\n",
              "          docLink.innerHTML = docLinkHtml;\n",
              "          element.appendChild(docLink);\n",
              "        }\n",
              "      </script>\n",
              "    </div>\n",
              "  </div>\n",
              "  "
            ],
            "text/plain": [
              "              id  breath_id  time_step       u_in  u_out   pressure  \\\n",
              "0              1          1   0.000000   0.083334      0   5.837492   \n",
              "1              2          1   0.033652  18.383041      0   5.907794   \n",
              "2              3          1   0.067514  22.509278      0   7.876254   \n",
              "3              4          1   0.101542  22.808822      0  11.742872   \n",
              "4              5          1   0.135756  25.355850      0  12.234987   \n",
              "...          ...        ...        ...        ...    ...        ...   \n",
              "6035995  6035996     125749   2.504603   1.489714      1   3.869032   \n",
              "6035996  6035997     125749   2.537961   1.488497      1   3.869032   \n",
              "6035997  6035998     125749   2.571408   1.558978      1   3.798729   \n",
              "6035998  6035999     125749   2.604744   1.272663      1   4.079938   \n",
              "6035999  6036000     125749   2.638017   1.482739      1   3.869032   \n",
              "\n",
              "         time_passed  u_in_prev  u_in_prev_diff  u_in_prev2  u_in_prev2_diff  \\\n",
              "0           0.000000   0.000000        0.000000    0.000000         0.000000   \n",
              "1           0.033652   0.083334       18.299707    0.000000         0.000000   \n",
              "2           0.033862  18.383041        4.126236    0.083334        22.425944   \n",
              "3           0.034028  22.509278        0.299544   18.383041         4.425781   \n",
              "4           0.034213  22.808822        2.547028   22.509278         2.846573   \n",
              "...              ...        ...             ...         ...              ...   \n",
              "6035995     0.033412   1.420711        0.069002    1.353205         0.136509   \n",
              "6035996     0.033358   1.489714       -0.001217    1.420711         0.067785   \n",
              "6035997     0.033447   1.488497        0.070481    1.489714         0.069264   \n",
              "6035998     0.033337   1.558978       -0.286315    1.488497        -0.215834   \n",
              "6035999     0.033273   1.272663        0.210076    1.558978        -0.076239   \n",
              "\n",
              "         u_in_cumsum  time_step_cumsum  u_in_cumsum/time_cumsum  \\\n",
              "0           0.083334          0.000000                -1.000000   \n",
              "1          18.466375          0.033652               548.740276   \n",
              "2          40.975653          0.101167               405.030935   \n",
              "3          63.784476          0.202709               314.660366   \n",
              "4          89.140326          0.338464               263.366841   \n",
              "...              ...               ...                      ...   \n",
              "6035995   387.109297         95.147046                 4.068537   \n",
              "6035996   388.597794         97.685006                 3.978070   \n",
              "6035997   390.156772        100.256414                 3.891589   \n",
              "6035998   391.429435        102.861158                 3.805415   \n",
              "6035999   392.912174        105.499176                 3.724315   \n",
              "\n",
              "         u_in_diff_time  u_out_prev  u_out_prev_diff  u_out_diff_time  \\\n",
              "0              0.000000         0.0              0.0              0.0   \n",
              "1            543.787629         0.0              0.0              0.0   \n",
              "2            121.854067         0.0              0.0              0.0   \n",
              "3              8.802930         0.0              0.0              0.0   \n",
              "4             74.445543         0.0              0.0              0.0   \n",
              "...                 ...         ...              ...              ...   \n",
              "6035995        2.065221         1.0              0.0              0.0   \n",
              "6035996       -0.036476         1.0              0.0              0.0   \n",
              "6035997        2.107258         1.0              0.0              0.0   \n",
              "6035998       -8.588526         1.0              0.0              0.0   \n",
              "6035999        6.313709         1.0              0.0              0.0   \n",
              "\n",
              "         prev_pressure  R_5  R_50  C_20  C_50  R__C_20__20  R__C_20__50  \\\n",
              "0             0.000000    0     0     0     1            0            1   \n",
              "1             5.837492    0     0     0     1            0            1   \n",
              "2             5.907794    0     0     0     1            0            1   \n",
              "3             7.876254    0     0     0     1            0            1   \n",
              "4            11.742872    0     0     0     1            0            1   \n",
              "...                ...  ...   ...   ...   ...          ...          ...   \n",
              "6035995       3.939334    0     1     0     0            0            0   \n",
              "6035996       3.869032    0     1     0     0            0            0   \n",
              "6035997       3.869032    0     1     0     0            0            0   \n",
              "6035998       3.798729    0     1     0     0            0            0   \n",
              "6035999       4.079938    0     1     0     0            0            0   \n",
              "\n",
              "         R__C_50__10  R__C_50__20  R__C_50__50  R__C_5__10  R__C_5__20  \\\n",
              "0                  0            0            0           0           0   \n",
              "1                  0            0            0           0           0   \n",
              "2                  0            0            0           0           0   \n",
              "3                  0            0            0           0           0   \n",
              "4                  0            0            0           0           0   \n",
              "...              ...          ...          ...         ...         ...   \n",
              "6035995            1            0            0           0           0   \n",
              "6035996            1            0            0           0           0   \n",
              "6035997            1            0            0           0           0   \n",
              "6035998            1            0            0           0           0   \n",
              "6035999            1            0            0           0           0   \n",
              "\n",
              "         R__C_5__50  \n",
              "0                 0  \n",
              "1                 0  \n",
              "2                 0  \n",
              "3                 0  \n",
              "4                 0  \n",
              "...             ...  \n",
              "6035995           0  \n",
              "6035996           0  \n",
              "6035997           0  \n",
              "6035998           0  \n",
              "6035999           0  \n",
              "\n",
              "[6036000 rows x 31 columns]"
            ]
          },
          "execution_count": 9,
          "metadata": {},
          "output_type": "execute_result"
        }
      ],
      "source": [
        "features(data)"
      ]
    },
    {
      "cell_type": "code",
      "execution_count": null,
      "id": "informal-cache",
      "metadata": {
        "id": "informal-cache"
      },
      "outputs": [],
      "source": [
        "# train,test = train_test_split(data,test_size=0.3,shuffle=False,random_state=42)"
      ]
    },
    {
      "cell_type": "code",
      "execution_count": null,
      "id": "3619293f",
      "metadata": {
        "colab": {
          "base_uri": "https://localhost:8080/"
        },
        "id": "3619293f",
        "outputId": "a8cac801-cc94-43a8-9992-aeeb1f2999f0"
      },
      "outputs": [
        {
          "name": "stdout",
          "output_type": "stream",
          "text": [
            "(6036000, 27)\n"
          ]
        }
      ],
      "source": [
        "train_x,train_y = prepare_data(data.copy())"
      ]
    },
    {
      "cell_type": "code",
      "execution_count": null,
      "id": "qhDoHcaU0IxJ",
      "metadata": {
        "id": "qhDoHcaU0IxJ"
      },
      "outputs": [],
      "source": [
        "X_train,X_test,Y_train,Y_test = train_test_split(train_x,train_y,test_size=0.1,shuffle=False)"
      ]
    },
    {
      "cell_type": "code",
      "execution_count": null,
      "id": "b713c30c-9c7c-4c3a-94f0-1995da476d11",
      "metadata": {
        "id": "b713c30c-9c7c-4c3a-94f0-1995da476d11"
      },
      "outputs": [],
      "source": [
        "groups = data['breath_id']"
      ]
    },
    {
      "cell_type": "code",
      "execution_count": null,
      "id": "robust-housing",
      "metadata": {
        "id": "robust-housing"
      },
      "outputs": [],
      "source": [
        "FEATURES = train_x.shape[1]\n"
      ]
    },
    {
      "cell_type": "code",
      "execution_count": null,
      "id": "ad2018d4",
      "metadata": {
        "id": "ad2018d4"
      },
      "outputs": [],
      "source": [
        "X_train = X_train.reshape(-1,1,FEATURES)\n",
        "Y_train = Y_train.reshape(-1,1,1)\n",
        "\n",
        "\n",
        "X_test = X_test.reshape(-1,1,FEATURES)\n",
        "Y_test = Y_test.reshape(-1,1,1)"
      ]
    },
    {
      "cell_type": "code",
      "execution_count": null,
      "id": "V74w2uo3GAJw",
      "metadata": {
        "colab": {
          "base_uri": "https://localhost:8080/"
        },
        "id": "V74w2uo3GAJw",
        "outputId": "bfb54848-aa03-4c4f-e4a8-fcb332bc679d"
      },
      "outputs": [
        {
          "data": {
            "text/plain": [
              "((5432400, 1, 28), (5432400, 1, 1))"
            ]
          },
          "execution_count": 15,
          "metadata": {},
          "output_type": "execute_result"
        }
      ],
      "source": [
        "X_train.shape,Y_train.shape"
      ]
    },
    {
      "cell_type": "code",
      "execution_count": null,
      "id": "144c7ab4-eed1-408d-9188-7ac5d68c04a3",
      "metadata": {
        "id": "144c7ab4-eed1-408d-9188-7ac5d68c04a3"
      },
      "outputs": [],
      "source": [
        "def Model():\n",
        "\n",
        "   \n",
        "\n",
        "    inputs = layers.Input(shape=(1,FEATURES))\n",
        "    \n",
        "\n",
        "    \n",
        "    \n",
        "\n",
        "    x = layers.Bidirectional(layers.LSTM(1024,return_sequences=True ))(inputs)\n",
        "    x = layers.Bidirectional(layers.LSTM(512,return_sequences=True ))(x)\n",
        "   \n",
        "    x = layers.Bidirectional(layers.LSTM(256,return_sequences=True ))(x)\n",
        "   \n",
        "    x = layers.Bidirectional(layers.LSTM(128,return_sequences=True ))(x)\n",
        "\n",
        "\n",
        "    \n",
        " \n",
        "    \n",
        "    x = layers.Dense(512,activation=\"selu\")(x)\n",
        "    x = layers.Dense(256,activation=\"selu\")(x)\n",
        "    \n",
        "    x = layers.Dense(1)(x)\n",
        "   \n",
        "    \n",
        "    return keras.Model(inputs=inputs,outputs=x)"
      ]
    },
    {
      "cell_type": "code",
      "execution_count": null,
      "id": "pTSGOsvCycgH",
      "metadata": {
        "colab": {
          "base_uri": "https://localhost:8080/"
        },
        "id": "pTSGOsvCycgH",
        "outputId": "d8aba218-7acf-4075-c2a3-fd609b7edff7"
      },
      "outputs": [
        {
          "name": "stdout",
          "output_type": "stream",
          "text": [
            "Model: \"model\"\n",
            "_________________________________________________________________\n",
            " Layer (type)                Output Shape              Param #   \n",
            "=================================================================\n",
            " input_1 (InputLayer)        [(None, 1, 28)]           0         \n",
            "                                                                 \n",
            " bidirectional (Bidirectiona  (None, 1, 2048)          8626176   \n",
            " l)                                                              \n",
            "                                                                 \n",
            " bidirectional_1 (Bidirectio  (None, 1, 1024)          10489856  \n",
            " nal)                                                            \n",
            "                                                                 \n",
            " bidirectional_2 (Bidirectio  (None, 1, 512)           2623488   \n",
            " nal)                                                            \n",
            "                                                                 \n",
            " bidirectional_3 (Bidirectio  (None, 1, 256)           656384    \n",
            " nal)                                                            \n",
            "                                                                 \n",
            " dense (Dense)               (None, 1, 512)            131584    \n",
            "                                                                 \n",
            " dense_1 (Dense)             (None, 1, 256)            131328    \n",
            "                                                                 \n",
            " dense_2 (Dense)             (None, 1, 1)              257       \n",
            "                                                                 \n",
            "=================================================================\n",
            "Total params: 22,659,073\n",
            "Trainable params: 22,659,073\n",
            "Non-trainable params: 0\n",
            "_________________________________________________________________\n"
          ]
        }
      ],
      "source": [
        "Model().summary()"
      ]
    },
    {
      "cell_type": "code",
      "execution_count": null,
      "id": "6c06a962-7b82-4328-b35c-6601e8a4d375",
      "metadata": {
        "id": "6c06a962-7b82-4328-b35c-6601e8a4d375"
      },
      "outputs": [],
      "source": [
        "X = X_train\n",
        "Y = Y_train"
      ]
    },
    {
      "cell_type": "code",
      "execution_count": null,
      "id": "0c9344a8-fb9c-494e-aedc-bf2bb362ac66",
      "metadata": {
        "id": "0c9344a8-fb9c-494e-aedc-bf2bb362ac66"
      },
      "outputs": [],
      "source": [
        "KF = GroupKFold(n_splits=5)"
      ]
    },
    {
      "cell_type": "code",
      "execution_count": null,
      "id": "a277addb-490a-47eb-9681-23833b7d7788",
      "metadata": {
        "id": "a277addb-490a-47eb-9681-23833b7d7788"
      },
      "outputs": [],
      "source": [
        "pred = []\n",
        "hist = []\n",
        "evals = []\n",
        "histf =[]\n",
        "evalf = []"
      ]
    },
    {
      "cell_type": "code",
      "execution_count": null,
      "id": "3a6f36f9-a747-44e4-a787-93acdb2a0f25",
      "metadata": {
        "colab": {
          "base_uri": "https://localhost:8080/"
        },
        "id": "3a6f36f9-a747-44e4-a787-93acdb2a0f25",
        "outputId": "1536e1d4-2f73-417a-848a-9a3cef7076bf"
      },
      "outputs": [
        {
          "data": {
            "text/plain": [
              "((6036000, 1, 28), (6036000, 1))"
            ]
          },
          "execution_count": 21,
          "metadata": {},
          "output_type": "execute_result"
        }
      ],
      "source": [
        "X.shape ,Y.shape"
      ]
    },
    {
      "cell_type": "code",
      "execution_count": null,
      "id": "47a4ba13",
      "metadata": {
        "id": "47a4ba13"
      },
      "outputs": [],
      "source": []
    },
    {
      "cell_type": "code",
      "execution_count": null,
      "id": "31d897bf-47ee-46d1-b5c7-c3b435a60d83",
      "metadata": {
        "id": "31d897bf-47ee-46d1-b5c7-c3b435a60d83"
      },
      "outputs": [],
      "source": [
        "FOLD = 1"
      ]
    },
    {
      "cell_type": "code",
      "execution_count": null,
      "id": "4ThJeKg-P4bJ",
      "metadata": {
        "id": "4ThJeKg-P4bJ"
      },
      "outputs": [],
      "source": []
    },
    {
      "cell_type": "code",
      "execution_count": null,
      "id": "8f468e68-d36e-4da3-9355-8a2e883ef155",
      "metadata": {
        "colab": {
          "base_uri": "https://localhost:8080/"
        },
        "id": "8f468e68-d36e-4da3-9355-8a2e883ef155",
        "outputId": "7b57363c-88d7-4378-cda4-44ef50e464c0"
      },
      "outputs": [
        {
          "name": "stdout",
          "output_type": "stream",
          "text": [
            "INFO:tensorflow:Using MirroredStrategy with devices ('/job:localhost/replica:0/task:0/device:GPU:0',)\n",
            "INFO:tensorflow:Reduce to /job:localhost/replica:0/task:0/device:CPU:0 then broadcast to ('/job:localhost/replica:0/task:0/device:CPU:0',).\n",
            "INFO:tensorflow:Reduce to /job:localhost/replica:0/task:0/device:CPU:0 then broadcast to ('/job:localhost/replica:0/task:0/device:CPU:0',).\n",
            "INFO:tensorflow:Reduce to /job:localhost/replica:0/task:0/device:CPU:0 then broadcast to ('/job:localhost/replica:0/task:0/device:CPU:0',).\n",
            "INFO:tensorflow:Reduce to /job:localhost/replica:0/task:0/device:CPU:0 then broadcast to ('/job:localhost/replica:0/task:0/device:CPU:0',).\n",
            "INFO:tensorflow:Reduce to /job:localhost/replica:0/task:0/device:CPU:0 then broadcast to ('/job:localhost/replica:0/task:0/device:CPU:0',).\n",
            "INFO:tensorflow:Reduce to /job:localhost/replica:0/task:0/device:CPU:0 then broadcast to ('/job:localhost/replica:0/task:0/device:CPU:0',).\n",
            "INFO:tensorflow:Reduce to /job:localhost/replica:0/task:0/device:CPU:0 then broadcast to ('/job:localhost/replica:0/task:0/device:CPU:0',).\n",
            "INFO:tensorflow:Reduce to /job:localhost/replica:0/task:0/device:CPU:0 then broadcast to ('/job:localhost/replica:0/task:0/device:CPU:0',).\n",
            "INFO:tensorflow:Reduce to /job:localhost/replica:0/task:0/device:CPU:0 then broadcast to ('/job:localhost/replica:0/task:0/device:CPU:0',).\n",
            "INFO:tensorflow:Reduce to /job:localhost/replica:0/task:0/device:CPU:0 then broadcast to ('/job:localhost/replica:0/task:0/device:CPU:0',).\n",
            "Model: \"model\"\n",
            "_________________________________________________________________\n",
            " Layer (type)                Output Shape              Param #   \n",
            "=================================================================\n",
            " input_1 (InputLayer)        [(None, 1, 28)]           0         \n",
            "                                                                 \n",
            " bidirectional (Bidirectiona  (None, 1, 2048)          8626176   \n",
            " l)                                                              \n",
            "                                                                 \n",
            " bidirectional_1 (Bidirectio  (None, 1, 1024)          10489856  \n",
            " nal)                                                            \n",
            "                                                                 \n",
            " bidirectional_2 (Bidirectio  (None, 1, 512)           2623488   \n",
            " nal)                                                            \n",
            "                                                                 \n",
            " bidirectional_3 (Bidirectio  (None, 1, 256)           656384    \n",
            " nal)                                                            \n",
            "                                                                 \n",
            " dense (Dense)               (None, 1, 512)            131584    \n",
            "                                                                 \n",
            " dense_1 (Dense)             (None, 1, 256)            131328    \n",
            "                                                                 \n",
            " dense_2 (Dense)             (None, 1, 1)              257       \n",
            "                                                                 \n",
            "=================================================================\n",
            "Total params: 22,659,073\n",
            "Trainable params: 22,659,073\n",
            "Non-trainable params: 0\n",
            "_________________________________________________________________\n",
            "None\n",
            "------------------------------FoldNo1------------------------------\n",
            "Epoch 1/30\n",
            "1358/1359 [============================>.] - ETA: 0s - loss: 0.6998 - mape_value: 6.9491 - MSE value: 2.8489WARNING:tensorflow:Learning rate reduction is conditioned on metric `val_loss` which is not available. Available metrics are: loss,mape_value,MSE value,lr\n",
            "WARNING:tensorflow:Can save best model only with val_loss available, skipping.\n",
            "1359/1359 [==============================] - 155s 102ms/step - loss: 0.6998 - mape_value: 6.9489 - MSE value: 2.8488 - lr: 0.0010\n",
            "Epoch 2/30\n",
            "1358/1359 [============================>.] - ETA: 0s - loss: 0.4324 - mape_value: 4.7145 - MSE value: 0.7712WARNING:tensorflow:Learning rate reduction is conditioned on metric `val_loss` which is not available. Available metrics are: loss,mape_value,MSE value,lr\n",
            "WARNING:tensorflow:Can save best model only with val_loss available, skipping.\n",
            "1359/1359 [==============================] - 139s 102ms/step - loss: 0.4323 - mape_value: 4.7144 - MSE value: 0.7711 - lr: 0.0010\n",
            "Epoch 3/30\n",
            "1358/1359 [============================>.] - ETA: 0s - loss: 0.3812 - mape_value: 4.3714 - MSE value: 0.6201WARNING:tensorflow:Learning rate reduction is conditioned on metric `val_loss` which is not available. Available metrics are: loss,mape_value,MSE value,lr\n",
            "WARNING:tensorflow:Can save best model only with val_loss available, skipping.\n",
            "1359/1359 [==============================] - 139s 102ms/step - loss: 0.3811 - mape_value: 4.3714 - MSE value: 0.6201 - lr: 0.0010\n",
            "Epoch 4/30\n",
            "1358/1359 [============================>.] - ETA: 0s - loss: 0.3521 - mape_value: 4.2047 - MSE value: 0.5218WARNING:tensorflow:Learning rate reduction is conditioned on metric `val_loss` which is not available. Available metrics are: loss,mape_value,MSE value,lr\n",
            "WARNING:tensorflow:Can save best model only with val_loss available, skipping.\n",
            "1359/1359 [==============================] - 139s 102ms/step - loss: 0.3521 - mape_value: 4.2046 - MSE value: 0.5218 - lr: 0.0010\n",
            "Epoch 5/30\n",
            "1358/1359 [============================>.] - ETA: 0s - loss: 0.3269 - mape_value: 3.9269 - MSE value: 0.4336WARNING:tensorflow:Learning rate reduction is conditioned on metric `val_loss` which is not available. Available metrics are: loss,mape_value,MSE value,lr\n",
            "WARNING:tensorflow:Can save best model only with val_loss available, skipping.\n",
            "1359/1359 [==============================] - 139s 102ms/step - loss: 0.3269 - mape_value: 3.9268 - MSE value: 0.4336 - lr: 0.0010\n",
            "Epoch 6/30\n",
            "1358/1359 [============================>.] - ETA: 0s - loss: 0.3162 - mape_value: 3.8314 - MSE value: 0.3756WARNING:tensorflow:Learning rate reduction is conditioned on metric `val_loss` which is not available. Available metrics are: loss,mape_value,MSE value,lr\n",
            "WARNING:tensorflow:Can save best model only with val_loss available, skipping.\n",
            "1359/1359 [==============================] - 139s 102ms/step - loss: 0.3162 - mape_value: 3.8314 - MSE value: 0.3755 - lr: 0.0010\n",
            "Epoch 7/30\n",
            "1358/1359 [============================>.] - ETA: 0s - loss: 0.2953 - mape_value: 3.6128 - MSE value: 0.3105WARNING:tensorflow:Learning rate reduction is conditioned on metric `val_loss` which is not available. Available metrics are: loss,mape_value,MSE value,lr\n",
            "WARNING:tensorflow:Can save best model only with val_loss available, skipping.\n",
            "1359/1359 [==============================] - 139s 102ms/step - loss: 0.2953 - mape_value: 3.6128 - MSE value: 0.3105 - lr: 0.0010\n",
            "Epoch 8/30\n",
            "1358/1359 [============================>.] - ETA: 0s - loss: 0.2798 - mape_value: 3.4430 - MSE value: 0.2607WARNING:tensorflow:Learning rate reduction is conditioned on metric `val_loss` which is not available. Available metrics are: loss,mape_value,MSE value,lr\n",
            "WARNING:tensorflow:Can save best model only with val_loss available, skipping.\n",
            "1359/1359 [==============================] - 139s 102ms/step - loss: 0.2798 - mape_value: 3.4430 - MSE value: 0.2606 - lr: 0.0010\n",
            "Epoch 9/30\n",
            "1358/1359 [============================>.] - ETA: 0s - loss: 0.2681 - mape_value: 3.2662 - MSE value: 0.2296WARNING:tensorflow:Learning rate reduction is conditioned on metric `val_loss` which is not available. Available metrics are: loss,mape_value,MSE value,lr\n",
            "WARNING:tensorflow:Can save best model only with val_loss available, skipping.\n",
            "1359/1359 [==============================] - 139s 102ms/step - loss: 0.2681 - mape_value: 3.2662 - MSE value: 0.2296 - lr: 0.0010\n",
            "Epoch 10/30\n",
            "1358/1359 [============================>.] - ETA: 0s - loss: 0.2588 - mape_value: 3.2977 - MSE value: 0.2152WARNING:tensorflow:Learning rate reduction is conditioned on metric `val_loss` which is not available. Available metrics are: loss,mape_value,MSE value,lr\n",
            "WARNING:tensorflow:Can save best model only with val_loss available, skipping.\n",
            "1359/1359 [==============================] - 138s 102ms/step - loss: 0.2588 - mape_value: 3.2976 - MSE value: 0.2152 - lr: 0.0010\n",
            "Epoch 11/30\n",
            "1358/1359 [============================>.] - ETA: 0s - loss: 0.2552 - mape_value: 3.3247 - MSE value: 0.2095WARNING:tensorflow:Learning rate reduction is conditioned on metric `val_loss` which is not available. Available metrics are: loss,mape_value,MSE value,lr\n",
            "WARNING:tensorflow:Can save best model only with val_loss available, skipping.\n",
            "1359/1359 [==============================] - 138s 102ms/step - loss: 0.2552 - mape_value: 3.3246 - MSE value: 0.2095 - lr: 0.0010\n",
            "Epoch 12/30\n",
            "1358/1359 [============================>.] - ETA: 0s - loss: 0.2471 - mape_value: 3.2112 - MSE value: 0.2016WARNING:tensorflow:Learning rate reduction is conditioned on metric `val_loss` which is not available. Available metrics are: loss,mape_value,MSE value,lr\n",
            "WARNING:tensorflow:Can save best model only with val_loss available, skipping.\n",
            "1359/1359 [==============================] - 138s 102ms/step - loss: 0.2471 - mape_value: 3.2111 - MSE value: 0.2016 - lr: 0.0010\n",
            "Epoch 13/30\n",
            "1358/1359 [============================>.] - ETA: 0s - loss: 0.2414 - mape_value: 3.1006 - MSE value: 0.1911WARNING:tensorflow:Learning rate reduction is conditioned on metric `val_loss` which is not available. Available metrics are: loss,mape_value,MSE value,lr\n",
            "WARNING:tensorflow:Can save best model only with val_loss available, skipping.\n",
            "1359/1359 [==============================] - 139s 102ms/step - loss: 0.2414 - mape_value: 3.1006 - MSE value: 0.1911 - lr: 0.0010\n",
            "Epoch 14/30\n",
            "1358/1359 [============================>.] - ETA: 0s - loss: 0.2375 - mape_value: 3.1377 - MSE value: 0.1847WARNING:tensorflow:Learning rate reduction is conditioned on metric `val_loss` which is not available. Available metrics are: loss,mape_value,MSE value,lr\n",
            "WARNING:tensorflow:Can save best model only with val_loss available, skipping.\n",
            "1359/1359 [==============================] - 139s 102ms/step - loss: 0.2375 - mape_value: 3.1376 - MSE value: 0.1847 - lr: 0.0010\n",
            "Epoch 15/30\n",
            "1358/1359 [============================>.] - ETA: 0s - loss: 0.2348 - mape_value: 3.0763 - MSE value: 0.1853WARNING:tensorflow:Learning rate reduction is conditioned on metric `val_loss` which is not available. Available metrics are: loss,mape_value,MSE value,lr\n",
            "WARNING:tensorflow:Can save best model only with val_loss available, skipping.\n",
            "1359/1359 [==============================] - 139s 102ms/step - loss: 0.2348 - mape_value: 3.0762 - MSE value: 0.1853 - lr: 0.0010\n",
            "Epoch 16/30\n",
            "1358/1359 [============================>.] - ETA: 0s - loss: 0.2311 - mape_value: 2.9701 - MSE value: 0.1835WARNING:tensorflow:Learning rate reduction is conditioned on metric `val_loss` which is not available. Available metrics are: loss,mape_value,MSE value,lr\n",
            "WARNING:tensorflow:Can save best model only with val_loss available, skipping.\n",
            "1359/1359 [==============================] - 139s 102ms/step - loss: 0.2311 - mape_value: 2.9700 - MSE value: 0.1834 - lr: 0.0010\n",
            "Epoch 17/30\n",
            "1358/1359 [============================>.] - ETA: 0s - loss: 0.2261 - mape_value: 2.9794 - MSE value: 0.1731WARNING:tensorflow:Learning rate reduction is conditioned on metric `val_loss` which is not available. Available metrics are: loss,mape_value,MSE value,lr\n",
            "WARNING:tensorflow:Can save best model only with val_loss available, skipping.\n",
            "1359/1359 [==============================] - 139s 102ms/step - loss: 0.2261 - mape_value: 2.9793 - MSE value: 0.1731 - lr: 0.0010\n",
            "Epoch 18/30\n",
            "1358/1359 [============================>.] - ETA: 0s - loss: 0.2244 - mape_value: 2.9440 - MSE value: 0.1696WARNING:tensorflow:Learning rate reduction is conditioned on metric `val_loss` which is not available. Available metrics are: loss,mape_value,MSE value,lr\n",
            "WARNING:tensorflow:Can save best model only with val_loss available, skipping.\n",
            "1359/1359 [==============================] - 139s 102ms/step - loss: 0.2244 - mape_value: 2.9439 - MSE value: 0.1696 - lr: 0.0010\n",
            "Epoch 19/30\n",
            "1358/1359 [============================>.] - ETA: 0s - loss: 0.2211 - mape_value: 2.9342 - MSE value: 0.1663WARNING:tensorflow:Learning rate reduction is conditioned on metric `val_loss` which is not available. Available metrics are: loss,mape_value,MSE value,lr\n",
            "WARNING:tensorflow:Can save best model only with val_loss available, skipping.\n",
            "1359/1359 [==============================] - 139s 102ms/step - loss: 0.2210 - mape_value: 2.9341 - MSE value: 0.1663 - lr: 0.0010\n",
            "Epoch 20/30\n",
            "1358/1359 [============================>.] - ETA: 0s - loss: 0.2206 - mape_value: 2.9250 - MSE value: 0.1646WARNING:tensorflow:Learning rate reduction is conditioned on metric `val_loss` which is not available. Available metrics are: loss,mape_value,MSE value,lr\n",
            "WARNING:tensorflow:Can save best model only with val_loss available, skipping.\n",
            "1359/1359 [==============================] - 139s 102ms/step - loss: 0.2206 - mape_value: 2.9249 - MSE value: 0.1646 - lr: 0.0010\n",
            "Epoch 21/30\n",
            "1358/1359 [============================>.] - ETA: 0s - loss: 0.2160 - mape_value: 2.8351 - MSE value: 0.1606WARNING:tensorflow:Learning rate reduction is conditioned on metric `val_loss` which is not available. Available metrics are: loss,mape_value,MSE value,lr\n",
            "WARNING:tensorflow:Can save best model only with val_loss available, skipping.\n",
            "1359/1359 [==============================] - 139s 102ms/step - loss: 0.2160 - mape_value: 2.8350 - MSE value: 0.1605 - lr: 0.0010\n",
            "Epoch 22/30\n",
            "1358/1359 [============================>.] - ETA: 0s - loss: 0.2131 - mape_value: 2.8675 - MSE value: 0.1572WARNING:tensorflow:Learning rate reduction is conditioned on metric `val_loss` which is not available. Available metrics are: loss,mape_value,MSE value,lr\n",
            "WARNING:tensorflow:Can save best model only with val_loss available, skipping.\n",
            "1359/1359 [==============================] - 139s 102ms/step - loss: 0.2131 - mape_value: 2.8674 - MSE value: 0.1572 - lr: 0.0010\n",
            "Epoch 23/30\n",
            "1358/1359 [============================>.] - ETA: 0s - loss: 0.2124 - mape_value: 2.8359 - MSE value: 0.1563WARNING:tensorflow:Learning rate reduction is conditioned on metric `val_loss` which is not available. Available metrics are: loss,mape_value,MSE value,lr\n",
            "WARNING:tensorflow:Can save best model only with val_loss available, skipping.\n",
            "1359/1359 [==============================] - 139s 102ms/step - loss: 0.2124 - mape_value: 2.8358 - MSE value: 0.1563 - lr: 0.0010\n",
            "Epoch 24/30\n",
            "1358/1359 [============================>.] - ETA: 0s - loss: 0.2111 - mape_value: 2.7978 - MSE value: 0.1544WARNING:tensorflow:Learning rate reduction is conditioned on metric `val_loss` which is not available. Available metrics are: loss,mape_value,MSE value,lr\n",
            "WARNING:tensorflow:Can save best model only with val_loss available, skipping.\n",
            "1359/1359 [==============================] - 139s 102ms/step - loss: 0.2111 - mape_value: 2.7977 - MSE value: 0.1544 - lr: 0.0010\n",
            "Epoch 25/30\n",
            "1358/1359 [============================>.] - ETA: 0s - loss: 0.2075 - mape_value: 2.7327 - MSE value: 0.1506WARNING:tensorflow:Learning rate reduction is conditioned on metric `val_loss` which is not available. Available metrics are: loss,mape_value,MSE value,lr\n",
            "WARNING:tensorflow:Can save best model only with val_loss available, skipping.\n",
            "1359/1359 [==============================] - 139s 102ms/step - loss: 0.2075 - mape_value: 2.7327 - MSE value: 0.1506 - lr: 0.0010\n",
            "Epoch 26/30\n",
            "1358/1359 [============================>.] - ETA: 0s - loss: 0.2070 - mape_value: 2.8259 - MSE value: 0.1509WARNING:tensorflow:Learning rate reduction is conditioned on metric `val_loss` which is not available. Available metrics are: loss,mape_value,MSE value,lr\n",
            "WARNING:tensorflow:Can save best model only with val_loss available, skipping.\n",
            "1359/1359 [==============================] - 139s 102ms/step - loss: 0.2070 - mape_value: 2.8258 - MSE value: 0.1509 - lr: 0.0010\n",
            "Epoch 27/30\n",
            "1358/1359 [============================>.] - ETA: 0s - loss: 0.2061 - mape_value: 2.7512 - MSE value: 0.1511WARNING:tensorflow:Learning rate reduction is conditioned on metric `val_loss` which is not available. Available metrics are: loss,mape_value,MSE value,lr\n",
            "WARNING:tensorflow:Can save best model only with val_loss available, skipping.\n",
            "1359/1359 [==============================] - 139s 102ms/step - loss: 0.2061 - mape_value: 2.7512 - MSE value: 0.1511 - lr: 0.0010\n",
            "Epoch 28/30\n",
            "1358/1359 [============================>.] - ETA: 0s - loss: 0.2039 - mape_value: 2.7271 - MSE value: 0.1469WARNING:tensorflow:Learning rate reduction is conditioned on metric `val_loss` which is not available. Available metrics are: loss,mape_value,MSE value,lr\n",
            "WARNING:tensorflow:Can save best model only with val_loss available, skipping.\n",
            "1359/1359 [==============================] - 139s 102ms/step - loss: 0.2039 - mape_value: 2.7270 - MSE value: 0.1469 - lr: 0.0010\n",
            "Epoch 29/30\n",
            "1358/1359 [============================>.] - ETA: 0s - loss: 0.2015 - mape_value: 2.7104 - MSE value: 0.1452WARNING:tensorflow:Learning rate reduction is conditioned on metric `val_loss` which is not available. Available metrics are: loss,mape_value,MSE value,lr\n",
            "WARNING:tensorflow:Can save best model only with val_loss available, skipping.\n",
            "1359/1359 [==============================] - 139s 102ms/step - loss: 0.2015 - mape_value: 2.7104 - MSE value: 0.1451 - lr: 0.0010\n",
            "Epoch 30/30\n",
            "1358/1359 [============================>.] - ETA: 0s - loss: 0.2005 - mape_value: 2.7079 - MSE value: 0.1439WARNING:tensorflow:Learning rate reduction is conditioned on metric `val_loss` which is not available. Available metrics are: loss,mape_value,MSE value,lr\n",
            "WARNING:tensorflow:Can save best model only with val_loss available, skipping.\n",
            "1359/1359 [==============================] - 139s 102ms/step - loss: 0.2005 - mape_value: 2.7078 - MSE value: 0.1439 - lr: 0.0010\n"
          ]
        }
      ],
      "source": [
        "\n",
        "\n",
        "\n",
        "for train_index ,test_index in KF.split(X,Y,groups=groups):\n",
        "    \n",
        "\n",
        "  train_dataset = tf.data.Dataset.from_tensor_slices((X_train,Y_train))\n",
        "  val_dataset = tf.data.Dataset.from_tensor_slices((X_test,Y_test))\n",
        "\n",
        "\n",
        "\n",
        "  model = Model()\n",
        "  opt= tf.keras.optimizers.Adam()\n",
        "\n",
        "\n",
        "  model.compile(optimizer=opt,loss=\"mae\",metrics=[tf.keras.metrics.MeanAbsolutePercentageError(\"mape_value\"),tf.keras.metrics.MeanSquaredError(\"MSE value\")])\n",
        "  print(model.summary() )\n",
        "      \n",
        "  reduce_lr= tf.keras.callbacks.ReduceLROnPlateau(\n",
        "  monitor=\"val_loss\",\n",
        "  factor=0.5,\n",
        "  patience=2,\n",
        "  verbose=1,\n",
        "  mode=\"min\",\n",
        "  min_delta=0.0001,\n",
        "  cooldown=0,\n",
        "  min_lr=0,\n",
        "\n",
        "  )\n",
        "\n",
        "\n",
        "  early_stop = tf.keras.callbacks.EarlyStopping(\n",
        "  monitor=\"val_loss\",\n",
        "  min_delta=0.001,\n",
        "  patience=5,\n",
        "  verbose=1,\n",
        "  mode=\"min\",\n",
        "  baseline=None,\n",
        "  restore_best_weights=True,\n",
        "  )\n",
        "\n",
        "\n",
        "  tensorboard_dir = \"fit\"\n",
        "  tensorboard = tf.keras.callbacks.TensorBoard(\n",
        "  log_dir=tensorboard_dir, write_graph=True, write_images=True,histogram_freq=1)\n",
        "\n",
        "\n",
        "\n",
        "\n",
        "\n",
        "\n",
        "\n",
        "  checkpoint_filepath = f'model_FoldNo{FOLD}.h5'\n",
        "  model_checkpoint_callback = tf.keras.callbacks.ModelCheckpoint(\n",
        "  filepath=checkpoint_filepath,\n",
        "  save_weights_only=False,\n",
        "  monitor='val_loss',\n",
        "  mode='min',\n",
        "  save_best_only=True)\n",
        "  print(f\"------------------------------FoldNo{FOLD}------------------------------\")\n",
        "\n",
        "\n",
        "  \n",
        "\n",
        "\n",
        "  BATCH_SIZE  = 80*50\n",
        "  EPOCHS = 5\n",
        "\n",
        "  train_dataset = train_dataset.batch(BATCH_SIZE)\n",
        "  val_dataset = val_dataset.batch(80*20)\n",
        "\n",
        "\n",
        "  history = model.fit(train_dataset,epochs=30,callbacks=[reduce_lr,model_checkpoint_callback,tensorboard])\n",
        "\n",
        "        \n",
        "\n",
        "    \n",
        "    \n",
        "    \n",
        "    \n",
        "    \n",
        "    \n",
        "    \n",
        "    \n",
        "    \n",
        "    \n",
        "    \n",
        "\n",
        "\n",
        "  FOLD+=1\n",
        "\n",
        "  \n",
        "\n",
        "    "
      ]
    },
    {
      "cell_type": "code",
      "execution_count": null,
      "id": "sKILbeww71na",
      "metadata": {
        "id": "sKILbeww71na"
      },
      "outputs": [],
      "source": []
    },
    {
      "cell_type": "code",
      "execution_count": null,
      "id": "30e817cf-67bd-48f1-9591-a1e6aece603e",
      "metadata": {
        "id": "30e817cf-67bd-48f1-9591-a1e6aece603e"
      },
      "outputs": [],
      "source": [
        "def predict(x,y,visualize=False,evaluate=False,index=None):\n",
        "    results = []\n",
        "    evaluations = []\n",
        "    mapes = []\n",
        "    for index in range(0,len(x)):\n",
        "        result = model.predict(x[index].reshape(-1,1,FEATURES))\n",
        "        results.append(result)\n",
        "        mape = tf.keras.metrics.mean_absolute_percentage_error( y[index], result)\n",
        "        mapes.append(mape)\n",
        "\n",
        "        if evaluate:\n",
        "            evaluation = model.evaluate(x[:index].reshape(1,-1,27),y[index])\n",
        "    \n",
        "    if visualize:\n",
        "     \n",
        "        mean_mape = round(np.mean(mapes),3)\n",
        "        title = 'Real  vs Prediction - MAPE: %s' % round(mean_mape,2)\n",
        "        print(np.mean(mapes),mean_mape)\n",
        "        timesteps = np.arange(0,80)\n",
        "        fig = plt.figure(figsize=(10,5))\n",
        "        ax1 = fig.add_subplot()\n",
        "        plt.title(title)\n",
        "        ax1.scatter(timesteps,y,label='real')\n",
        "        ax1.scatter(timesteps,results,label='predictions')\n",
        "        plt.legend(loc='upper right');\n",
        "        plt.xlabel('Timesteps')\n",
        "        plt.ylabel('Pressure')\n",
        "        plt.show()\n",
        "        plt.savefig('Figure{0}.jpg'.format(index))\n",
        "        \n",
        "\n",
        "   \n",
        "    return results"
      ]
    },
    {
      "cell_type": "code",
      "execution_count": null,
      "id": "4c031d97-7186-430f-b6cd-ad2273f8fe59",
      "metadata": {
        "colab": {
          "base_uri": "https://localhost:8080/",
          "height": 1000
        },
        "id": "4c031d97-7186-430f-b6cd-ad2273f8fe59",
        "outputId": "24da77a6-691d-45d9-d26c-1bb169915f2e"
      },
      "outputs": [
        {
          "name": "stdout",
          "output_type": "stream",
          "text": [
            "3.1263185 3.126\n"
          ]
        },
        {
          "data": {
            "image/png": "[encoded data removed]",
            "text/plain": [
              "<Figure size 720x360 with 1 Axes>"
            ]
          },
          "metadata": {
            "needs_background": "light"
          },
          "output_type": "display_data"
        },
        {
          "name": "stdout",
          "output_type": "stream",
          "text": [
            "1.9243282 1.924\n"
          ]
        },
        {
          "data": {
            "text/plain": [
              "<Figure size 432x288 with 0 Axes>"
            ]
          },
          "metadata": {},
          "output_type": "display_data"
        },
        {
          "data": {
            "image/png": "[encoded data removed]",
            "text/plain": [
              "<Figure size 720x360 with 1 Axes>"
            ]
          },
          "metadata": {
            "needs_background": "light"
          },
          "output_type": "display_data"
        },
        {
          "name": "stdout",
          "output_type": "stream",
          "text": [
            "1.5336233 1.534\n"
          ]
        },
        {
          "data": {
            "text/plain": [
              "<Figure size 432x288 with 0 Axes>"
            ]
          },
          "metadata": {},
          "output_type": "display_data"
        },
        {
          "data": {
            "image/png": "[encoded data removed]",
            "text/plain": [
              "<Figure size 720x360 with 1 Axes>"
            ]
          },
          "metadata": {
            "needs_background": "light"
          },
          "output_type": "display_data"
        },
        {
          "name": "stdout",
          "output_type": "stream",
          "text": [
            "2.1203022 2.12\n"
          ]
        },
        {
          "data": {
            "text/plain": [
              "<Figure size 432x288 with 0 Axes>"
            ]
          },
          "metadata": {},
          "output_type": "display_data"
        },
        {
          "data": {
            "image/png": "[encoded data removed]",
            "text/plain": [
              "<Figure size 720x360 with 1 Axes>"
            ]
          },
          "metadata": {
            "needs_background": "light"
          },
          "output_type": "display_data"
        },
        {
          "name": "stdout",
          "output_type": "stream",
          "text": [
            "2.4799984 2.48\n"
          ]
        },
        {
          "data": {
            "text/plain": [
              "<Figure size 432x288 with 0 Axes>"
            ]
          },
          "metadata": {},
          "output_type": "display_data"
        },
        {
          "data": {
            "image/png": "[encoded data removed]",
            "text/plain": [
              "<Figure size 720x360 with 1 Axes>"
            ]
          },
          "metadata": {
            "needs_background": "light"
          },
          "output_type": "display_data"
        },
        {
          "data": {
            "text/plain": [
              "<Figure size 432x288 with 0 Axes>"
            ]
          },
          "metadata": {},
          "output_type": "display_data"
        }
      ],
      "source": [
        "X_test = X_test.reshape(-1,80,1,FEATURES)\n",
        "Y_test = Y_test.reshape(-1,80,1,1)\n",
        "for i in range(5):\n",
        "    random = np.random.randint(0,len(X_test))\n",
        "    predict(X_test[random],Y_test[random],visualize=True,index=i)"
      ]
    },
    {
      "cell_type": "code",
      "execution_count": null,
      "id": "74b2d400-0ee7-4eda-8538-c4b293e98def",
      "metadata": {
        "colab": {
          "base_uri": "https://localhost:8080/"
        },
        "id": "74b2d400-0ee7-4eda-8538-c4b293e98def",
        "outputId": "e829e227-5e51-43be-c648-5fbee4036500"
      },
      "outputs": [
        {
          "data": {
            "text/plain": [
              "<TakeDataset shapes: ((None, 1, 28), (None, 1, 1)), types: (tf.float64, tf.float64)>"
            ]
          },
          "execution_count": 25,
          "metadata": {},
          "output_type": "execute_result"
        }
      ],
      "source": []
    },
    {
      "cell_type": "code",
      "execution_count": null,
      "id": "d52f51e8-750c-4893-876b-4feb35ce84ef",
      "metadata": {
        "id": "d52f51e8-750c-4893-876b-4feb35ce84ef"
      },
      "outputs": [],
      "source": []
    },
    {
      "cell_type": "code",
      "execution_count": null,
      "id": "0fb2785a-cc14-48e0-b084-693e3f28815d",
      "metadata": {
        "id": "0fb2785a-cc14-48e0-b084-693e3f28815d"
      },
      "outputs": [],
      "source": []
    }
  ],
  "metadata": {
    "accelerator": "GPU",
    "colab": {
      "collapsed_sections": [],
      "machine_shape": "hm",
      "name": "fold.ipynb",
      "provenance": []
    },
    "interpreter": {
      "hash": "8bdb4d84d93706be67b9578fa5dc21b1f914a4b6c0fc4b6a784949b51b804321"
    },
    "kernelspec": {
      "display_name": "Python [conda env:ai]",
      "language": "python",
      "name": "python3"
    },
    "language_info": {
      "codemirror_mode": {
        "name": "ipython",
        "version": 3
      },
      "file_extension": ".py",
      "mimetype": "text/x-python",
      "name": "python",
      "nbconvert_exporter": "python",
      "pygments_lexer": "ipython3",
      "version": "3.6.13"
    }
  },
  "nbformat": 4,
  "nbformat_minor": 5
}
